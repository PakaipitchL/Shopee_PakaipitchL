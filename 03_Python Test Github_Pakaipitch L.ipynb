{
 "cells": [
  {
   "cell_type": "code",
   "execution_count": 14,
   "metadata": {},
   "outputs": [],
   "source": [
    "import pandas as pd\n",
    "import numpy as np"
   ]
  },
  {
   "cell_type": "code",
   "execution_count": 15,
   "metadata": {},
   "outputs": [],
   "source": [
    "df1 = pd.read_excel('03 Python test and Dataset.xlsx', sheet_name='pricing_project_dataset')\n",
    "df2 = pd.read_excel('03 Python test and Dataset.xlsx', sheet_name='platform_number')\n",
    "df3 = pd.read_excel('03 Python test and Dataset.xlsx', sheet_name='exchange_rate')\n"
   ]
  },
  {
   "attachments": {},
   "cell_type": "markdown",
   "metadata": {},
   "source": [
    "### 1. Cluster item lv into each portion (dataset is at model lv) (5 points)"
   ]
  },
  {
   "cell_type": "code",
   "execution_count": 16,
   "metadata": {},
   "outputs": [
    {
     "name": "stdout",
     "output_type": "stream",
     "text": [
      "grass_region\n",
      "ID    8428\n",
      "TH    4137\n",
      "SG    2194\n",
      "MY    2118\n",
      "VN    2097\n",
      "PH    2025\n",
      "Name: count, dtype: int64\n"
     ]
    }
   ],
   "source": [
    "print(df1.grass_region.value_counts())"
   ]
  },
  {
   "cell_type": "code",
   "execution_count": 4,
   "metadata": {},
   "outputs": [
    {
     "data": {
      "text/html": [
       "<div>\n",
       "<style scoped>\n",
       "    .dataframe tbody tr th:only-of-type {\n",
       "        vertical-align: middle;\n",
       "    }\n",
       "\n",
       "    .dataframe tbody tr th {\n",
       "        vertical-align: top;\n",
       "    }\n",
       "\n",
       "    .dataframe thead th {\n",
       "        text-align: right;\n",
       "    }\n",
       "</style>\n",
       "<table border=\"1\" class=\"dataframe\">\n",
       "  <thead>\n",
       "    <tr style=\"text-align: right;\">\n",
       "      <th></th>\n",
       "      <th>shopee_order</th>\n",
       "    </tr>\n",
       "    <tr>\n",
       "      <th>grass_region</th>\n",
       "      <th></th>\n",
       "    </tr>\n",
       "  </thead>\n",
       "  <tbody>\n",
       "    <tr>\n",
       "      <th>ID</th>\n",
       "      <td>848601</td>\n",
       "    </tr>\n",
       "    <tr>\n",
       "      <th>MY</th>\n",
       "      <td>207739</td>\n",
       "    </tr>\n",
       "    <tr>\n",
       "      <th>PH</th>\n",
       "      <td>202688</td>\n",
       "    </tr>\n",
       "    <tr>\n",
       "      <th>SG</th>\n",
       "      <td>219624</td>\n",
       "    </tr>\n",
       "    <tr>\n",
       "      <th>TH</th>\n",
       "      <td>408024</td>\n",
       "    </tr>\n",
       "    <tr>\n",
       "      <th>VN</th>\n",
       "      <td>213484</td>\n",
       "    </tr>\n",
       "  </tbody>\n",
       "</table>\n",
       "</div>"
      ],
      "text/plain": [
       "              shopee_order\n",
       "grass_region              \n",
       "ID                  848601\n",
       "MY                  207739\n",
       "PH                  202688\n",
       "SG                  219624\n",
       "TH                  408024\n",
       "VN                  213484"
      ]
     },
     "execution_count": 4,
     "metadata": {},
     "output_type": "execute_result"
    }
   ],
   "source": [
    "df4=pd.DataFrame(df1.groupby('grass_region').sum()['shopee_order'])\n",
    "df4"
   ]
  },
  {
   "cell_type": "code",
   "execution_count": 5,
   "metadata": {},
   "outputs": [],
   "source": [
    "df5 = df2[['region','platform order']]"
   ]
  },
  {
   "cell_type": "code",
   "execution_count": 8,
   "metadata": {},
   "outputs": [
    {
     "data": {
      "text/html": [
       "<div>\n",
       "<style scoped>\n",
       "    .dataframe tbody tr th:only-of-type {\n",
       "        vertical-align: middle;\n",
       "    }\n",
       "\n",
       "    .dataframe tbody tr th {\n",
       "        vertical-align: top;\n",
       "    }\n",
       "\n",
       "    .dataframe thead th {\n",
       "        text-align: right;\n",
       "    }\n",
       "</style>\n",
       "<table border=\"1\" class=\"dataframe\">\n",
       "  <thead>\n",
       "    <tr style=\"text-align: right;\">\n",
       "      <th></th>\n",
       "      <th>shopee_order</th>\n",
       "    </tr>\n",
       "    <tr>\n",
       "      <th>grass_region</th>\n",
       "      <th></th>\n",
       "    </tr>\n",
       "  </thead>\n",
       "  <tbody>\n",
       "    <tr>\n",
       "      <th>ID</th>\n",
       "      <td>0.546299</td>\n",
       "    </tr>\n",
       "    <tr>\n",
       "      <th>MY</th>\n",
       "      <td>0.623496</td>\n",
       "    </tr>\n",
       "    <tr>\n",
       "      <th>PH</th>\n",
       "      <td>0.516156</td>\n",
       "    </tr>\n",
       "    <tr>\n",
       "      <th>SG</th>\n",
       "      <td>0.417392</td>\n",
       "    </tr>\n",
       "    <tr>\n",
       "      <th>TH</th>\n",
       "      <td>0.400668</td>\n",
       "    </tr>\n",
       "    <tr>\n",
       "      <th>VN</th>\n",
       "      <td>0.516903</td>\n",
       "    </tr>\n",
       "  </tbody>\n",
       "</table>\n",
       "</div>"
      ],
      "text/plain": [
       "              shopee_order\n",
       "grass_region              \n",
       "ID                0.546299\n",
       "MY                0.623496\n",
       "PH                0.516156\n",
       "SG                0.417392\n",
       "TH                0.400668\n",
       "VN                0.516903"
      ]
     },
     "execution_count": 8,
     "metadata": {},
     "output_type": "execute_result"
    }
   ],
   "source": [
    "df4.div(df5.set_index('region')['platform order'], axis=0)"
   ]
  },
  {
   "cell_type": "code",
   "execution_count": 13,
   "metadata": {},
   "outputs": [
    {
     "data": {
      "text/plain": [
       "grass_region\n",
       "SG   -0.061531\n",
       "TH    0.005801\n",
       "VN   -0.012876\n",
       "ID    0.001898\n",
       "PH    0.002469\n",
       "MY    0.002833\n",
       "dtype: float64"
      ]
     },
     "execution_count": 13,
     "metadata": {},
     "output_type": "execute_result"
    }
   ],
   "source": [
    "def calculate_net_competitiveness(group):\n",
    "    shopee_less_cpt = (group['shopee_model_competitiveness_status'] == 'Shopee < CPT').sum()\n",
    "    shopee_more_cpt = (group['shopee_model_competitiveness_status'] == 'Shopee > CPT').sum()\n",
    "    total_match_model = len(group)\n",
    "    net_competitiveness = (shopee_less_cpt - shopee_more_cpt) / total_match_model if total_match_model != 0 else 0\n",
    "    return net_competitiveness\n",
    "\n",
    "net_competitiveness_results = df1.groupby('grass_region').apply(calculate_net_competitiveness)\n",
    "required_countries = ['SG', 'TH', 'VN', 'ID', 'PH', 'MY']\n",
    "net_competitiveness_results = net_competitiveness_results[required_countries]\n",
    "\n",
    "net_competitiveness_results"
   ]
  },
  {
   "attachments": {},
   "cell_type": "markdown",
   "metadata": {},
   "source": [
    "### 3. How many item at top 30% of model that contribute in highest order to platform by each country/region? (5points)"
   ]
  },
  {
   "cell_type": "code",
   "execution_count": 17,
   "metadata": {},
   "outputs": [
    {
     "data": {
      "text/plain": [
       "grass_region\n",
       "SG     658\n",
       "TH    1241\n",
       "VN     629\n",
       "ID    2528\n",
       "PH     607\n",
       "MY     635\n",
       "dtype: int64"
      ]
     },
     "execution_count": 17,
     "metadata": {},
     "output_type": "execute_result"
    }
   ],
   "source": [
    "def top_30_percent_count(group):\n",
    "    sorted_group = group.sort_values(by='shopee_order', ascending=False)\n",
    "    top_30_threshold = int(len(sorted_group) * 0.3)\n",
    "    return top_30_threshold\n",
    "\n",
    "top_30_percent_results = df1.groupby('grass_region').apply(top_30_percent_count)\n",
    "required_countries = ['SG', 'TH', 'VN', 'ID', 'PH', 'MY']\n",
    "top_30_percent_results = top_30_percent_results[required_countries]\n",
    "\n",
    "top_30_percent_results"
   ]
  }
 ],
 "metadata": {
  "kernelspec": {
   "display_name": "Example-mTEEY5sB",
   "language": "python",
   "name": "python3"
  },
  "language_info": {
   "codemirror_mode": {
    "name": "ipython",
    "version": 3
   },
   "file_extension": ".py",
   "mimetype": "text/x-python",
   "name": "python",
   "nbconvert_exporter": "python",
   "pygments_lexer": "ipython3",
   "version": "3.10.1"
  }
 },
 "nbformat": 4,
 "nbformat_minor": 2
}
